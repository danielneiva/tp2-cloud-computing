{
 "cells": [
  {
   "cell_type": "code",
   "execution_count": 29,
   "metadata": {},
   "outputs": [],
   "source": [
    "import pandas as pd\n",
    "import numpy as np\n"
   ]
  },
  {
   "cell_type": "code",
   "execution_count": 47,
   "metadata": {},
   "outputs": [
    {
     "data": {
      "text/html": [
       "<div>\n",
       "<style scoped>\n",
       "    .dataframe tbody tr th:only-of-type {\n",
       "        vertical-align: middle;\n",
       "    }\n",
       "\n",
       "    .dataframe tbody tr th {\n",
       "        vertical-align: top;\n",
       "    }\n",
       "\n",
       "    .dataframe thead th {\n",
       "        text-align: right;\n",
       "    }\n",
       "</style>\n",
       "<table border=\"1\" class=\"dataframe\">\n",
       "  <thead>\n",
       "    <tr style=\"text-align: right;\">\n",
       "      <th></th>\n",
       "      <th>pid</th>\n",
       "      <th>name</th>\n",
       "      <th>album_name</th>\n",
       "      <th>artist_name</th>\n",
       "      <th>duration_ms</th>\n",
       "      <th>track_name</th>\n",
       "    </tr>\n",
       "  </thead>\n",
       "  <tbody>\n",
       "    <tr>\n",
       "      <th>0</th>\n",
       "      <td>365</td>\n",
       "      <td>Chill Rock</td>\n",
       "      <td>An Awesome Wave</td>\n",
       "      <td>alt-J</td>\n",
       "      <td>227080</td>\n",
       "      <td>Breezeblocks</td>\n",
       "    </tr>\n",
       "    <tr>\n",
       "      <th>1</th>\n",
       "      <td>365</td>\n",
       "      <td>Chill Rock</td>\n",
       "      <td>Caress Your Soul</td>\n",
       "      <td>Sticky Fingers</td>\n",
       "      <td>174346</td>\n",
       "      <td>Clouds &amp; Cream</td>\n",
       "    </tr>\n",
       "    <tr>\n",
       "      <th>2</th>\n",
       "      <td>365</td>\n",
       "      <td>Chill Rock</td>\n",
       "      <td>In The Aeroplane Over The Sea</td>\n",
       "      <td>Neutral Milk Hotel</td>\n",
       "      <td>202560</td>\n",
       "      <td>In The Aeroplane Over The Sea</td>\n",
       "    </tr>\n",
       "    <tr>\n",
       "      <th>3</th>\n",
       "      <td>365</td>\n",
       "      <td>Chill Rock</td>\n",
       "      <td>Boys &amp; Girls</td>\n",
       "      <td>Alabama Shakes</td>\n",
       "      <td>226186</td>\n",
       "      <td>Hold On</td>\n",
       "    </tr>\n",
       "    <tr>\n",
       "      <th>4</th>\n",
       "      <td>365</td>\n",
       "      <td>Chill Rock</td>\n",
       "      <td>Wolfgang Amadeus Phoenix</td>\n",
       "      <td>Phoenix</td>\n",
       "      <td>241640</td>\n",
       "      <td>Lisztomania</td>\n",
       "    </tr>\n",
       "    <tr>\n",
       "      <th>...</th>\n",
       "      <td>...</td>\n",
       "      <td>...</td>\n",
       "      <td>...</td>\n",
       "      <td>...</td>\n",
       "      <td>...</td>\n",
       "      <td>...</td>\n",
       "    </tr>\n",
       "    <tr>\n",
       "      <th>22350</th>\n",
       "      <td>99354</td>\n",
       "      <td>industrial</td>\n",
       "      <td>Architecture And Morality</td>\n",
       "      <td>Orchestral Manoeuvres In The Dark</td>\n",
       "      <td>252053</td>\n",
       "      <td>Joan Of Arc (Maid Of Orleans) - 2003 Digital Remaster</td>\n",
       "    </tr>\n",
       "    <tr>\n",
       "      <th>22351</th>\n",
       "      <td>99354</td>\n",
       "      <td>industrial</td>\n",
       "      <td>Junk Culture</td>\n",
       "      <td>Orchestral Manoeuvres In The Dark</td>\n",
       "      <td>216040</td>\n",
       "      <td>Tesla Girls</td>\n",
       "    </tr>\n",
       "    <tr>\n",
       "      <th>22352</th>\n",
       "      <td>99354</td>\n",
       "      <td>industrial</td>\n",
       "      <td>Junk Culture</td>\n",
       "      <td>Orchestral Manoeuvres In The Dark</td>\n",
       "      <td>234373</td>\n",
       "      <td>Locomotion</td>\n",
       "    </tr>\n",
       "    <tr>\n",
       "      <th>22353</th>\n",
       "      <td>99354</td>\n",
       "      <td>industrial</td>\n",
       "      <td>Crush</td>\n",
       "      <td>Orchestral Manoeuvres In The Dark</td>\n",
       "      <td>209360</td>\n",
       "      <td>So In Love</td>\n",
       "    </tr>\n",
       "    <tr>\n",
       "      <th>22354</th>\n",
       "      <td>99354</td>\n",
       "      <td>industrial</td>\n",
       "      <td>If You Leave</td>\n",
       "      <td>Orchestral Manoeuvres In The Dark</td>\n",
       "      <td>268546</td>\n",
       "      <td>If You Leave</td>\n",
       "    </tr>\n",
       "  </tbody>\n",
       "</table>\n",
       "<p>22355 rows × 6 columns</p>\n",
       "</div>"
      ],
      "text/plain": [
       "         pid        name                     album_name  \\\n",
       "0      365    Chill Rock  An Awesome Wave                 \n",
       "1      365    Chill Rock  Caress Your Soul                \n",
       "2      365    Chill Rock  In The Aeroplane Over The Sea   \n",
       "3      365    Chill Rock  Boys & Girls                    \n",
       "4      365    Chill Rock  Wolfgang Amadeus Phoenix        \n",
       "...    ...           ...                       ...        \n",
       "22350  99354  industrial  Architecture And Morality       \n",
       "22351  99354  industrial  Junk Culture                    \n",
       "22352  99354  industrial  Junk Culture                    \n",
       "22353  99354  industrial  Crush                           \n",
       "22354  99354  industrial  If You Leave                    \n",
       "\n",
       "                             artist_name  duration_ms  \\\n",
       "0      alt-J                              227080        \n",
       "1      Sticky Fingers                     174346        \n",
       "2      Neutral Milk Hotel                 202560        \n",
       "3      Alabama Shakes                     226186        \n",
       "4      Phoenix                            241640        \n",
       "...        ...                               ...        \n",
       "22350  Orchestral Manoeuvres In The Dark  252053        \n",
       "22351  Orchestral Manoeuvres In The Dark  216040        \n",
       "22352  Orchestral Manoeuvres In The Dark  234373        \n",
       "22353  Orchestral Manoeuvres In The Dark  209360        \n",
       "22354  Orchestral Manoeuvres In The Dark  268546        \n",
       "\n",
       "                                                  track_name  \n",
       "0      Breezeblocks                                           \n",
       "1      Clouds & Cream                                         \n",
       "2      In The Aeroplane Over The Sea                          \n",
       "3      Hold On                                                \n",
       "4      Lisztomania                                            \n",
       "...            ...                                            \n",
       "22350  Joan Of Arc (Maid Of Orleans) - 2003 Digital Remaster  \n",
       "22351  Tesla Girls                                            \n",
       "22352  Locomotion                                             \n",
       "22353  So In Love                                             \n",
       "22354  If You Leave                                           \n",
       "\n",
       "[22355 rows x 6 columns]"
      ]
     },
     "execution_count": 47,
     "metadata": {},
     "output_type": "execute_result"
    }
   ],
   "source": [
    "dataset = pd.read_csv(\"./Datasets/playlist-sample-ds2.csv\")\n",
    "dataset"
   ]
  },
  {
   "cell_type": "code",
   "execution_count": 48,
   "metadata": {},
   "outputs": [
    {
     "data": {
      "text/plain": [
       "pid\n",
       "365       [Breezeblocks, Clouds & Cream, In The Aeroplane Over The Sea, Hold On, Lisztomania, Only For You, October, Love You Madly, Trojans, Undercover Martyn, Ain't No Rest for the Wicked - Original Version, Gimme All Your Love, If I ever feel better, Why'd You Only Call Me When You're High?, White Lies, Cruel, Down By The River, Shake Me Down, 1901, Do You, Ultimate Painting, Fluorescent Adolescent, Ain't Horrible, Sleepwalkin', Take a Walk, What You Know, Parade, Animal, Green Is The Colour - 2011 Remastered Version, Chartreuse, Last Nite, Too Late To Say Goodbye, After the Disco, Step, The Less I Know The Better, I Can't Handle Change, In A Feeling Like This, Baby Blue - 2010 - Remaster, Tighten Up, Trouble, Don't Wanna Fight, Stronger Than That, Flaws, If I Were A Portal, Go It Alone, Thirsty Man, Cigarette Daydreams - Live From Guitar Center, Things Happen, Heart Is Black, Evil Forces, Mountain At My Gates]                                                                                                                                                                                                                                                                                                                                                                                                                                                                                                                                                                                                                                                                                                                                                                                                                                 \n",
       "516       [I'll Make Love To You, On Bended Knee, Pony, Peaches & Cream (feat. P. Diddy), Bump n' Grind, Sexual Healing, Me and Mrs. Jones, Everyday People - Single Version, Lovergirl, Let Me Love You Down, Don't Stop 'Til You Get Enough - Single Version, It's Not Right But It's Okay, Brown Sugar, Soul Man, Hello, Three Times A Lady, Easy, Truly, Stuck On You, All Night Long (All Night) - Single Version, Dancing On The Ceiling, Deep River Woman, Without You (feat. Usher) - feat. Usher, U Got It Bad, Yeah!, U Remind Me, OMG, Burn - Confession Special Edition Version, You Make Me Wanna..., My  My  My, Rub You The Right Way, What's Going On, I Heard it Through the Grapevine(live), Freak Like Me, Freak Me, Candy Rain, The Humpty Dance, Can I Get A... - From The Rush Hour Soundtrack, I Got 5 On It - Feat. Michael Marshall, Get Ur Freak On, Big Poppa, Lean Back, Bust A Move, Now That We Found Love, You Can Do It - Feat. Mack 10 And Ms Toi, Baby Got Back, Informer, Pump Up The Jam - Edit, Don't Be Cruel - Radio Edit, My Prerogative, If It Isn't Love]                                                                                                                                                                                                                                                                                                                                                                                                                                                                                                                                                                                                                                                                                             \n",
       "539       [Steve McQueen, Wolves, Jennifer, Sea, Ocean's Deep, Sonsick, Theory Of Relativity, Love You Like Me, Keep It for Your Own, Steal Money, Treehouse, Eye Opener, Restless, I'm Corrupt, Second Day Uptown, Mr Polite, You Should Know - feat. Ruckazoid, Flashbacks  Memories and Dreams, Home, Everything You Wanted, No Stranger, Frivolous Life (feat. Marcus Azon), Nothing But Time, Get it Daddy, Starfield, Sweetness Alive, Tennis Court, Water]                                                                                                                                                                                                                                                                                                                                                                                                                                                                                                                                                                                                                                                                                                                                                                                                                                                                                                                                                                                                                                                                                                                                                                                                                                                                                                                               \n",
       "765       [When Will My Life Begin - From \"Tangled\"/Soundtrack Version, Mother Knows Best - From \"Tangled\"/Soundtrack Version, I've Got a Dream - From \"Tangled\"/Soundtrack Version, I See the Light - From \"Tangled\"/Soundtrack Version, Healing Incantation - From \"Tangled\"/Soundtrack Version, You'll Be In My Heart, I'll Make a Man Out of You - From \"Mulan\"/Soundtrack, Go the Distance - From \"Hercules\"/Soundtrack, The Bells Of Notre Dame, Colors Of The Wind, Hakuna Matata, Be Our Guest - From \"Beauty and the Beast\"/Soundtrack, Under the Sea - From \"The Little Mermaid\"/ Soundtrack Version, Chim Chim Cher-ee, A Dream Is A Wish Your Heart Makes - Soundtrack, What A Dog / He's A Tramp, Main Title - All This Has Happened Before, Little April Shower, Some Day My Prince Will Come, Strangers Like Me, Reflection - From \"Mulan\"/Soundtrack Version, I Won't Say (I'm in Love), Out There, Just Around The Riverbend, Circle Of Life - From \"The Lion King\"/Soundtrack, A Whole New World, Beauty and the Beast, Kiss the Girl - From \"The Little Mermaid\"/Soundtrack Version, Cruella De Vil - Soundtrack, Bibbidi-Bobbidi-Boo - From \"Cinderella\", Heigh-Ho, When You Wish Upon a Star, Ev'rybody Wants To Be A Cat, What's This?, Out There, If I Didn't Have You, Look Through My Eyes, Whistle While You Work, Can You Feel The Love Tonight, Gaston - From \"Beauty and the Beast\" / Soundtrack Version, Part of Your World - From \"The Little Mermaid\"/ Soundtrack Version, Poor Unfortunate Souls - From \"The Little Mermaid\" / Soundtrack Version, Do You Want to Build a Snowman?, For the First Time in Forever, Love Is an Open Door, Let It Go - From \"Frozen\"/Soundtrack Version, In Summer, Fixer Upper, Belle, Arabian Nights, One Jump Ahead (Reprise)]\n",
       "1018      [Promises and Pills - feat. Alfred The MC, I Don't Wanna Wait, Mucha Experiencia, Pupilas Lejanas, L.A.LOVE (la la), GDFR (feat. Sage The Gemini & Lookas), Party Rock Anthem, Lean On (feat. MØ & DJ Snake), Powerful (feat. Ellie Goulding & Tarrus Riley), Tírate Al Medio, My House, Work, 679 (feat. Remy Boyz), Trap Queen, When I Come Around, All The Small Things, What's My Age Again?, Superman, The Kids Aren't Alright, Self Esteem, Take On Me - Best Of, Shaky Shaky, Lo Que Paso  Paso - Live, Embriágame, Pierdo la Cabeza - Official Remix, Obsesionado, Chillax, Intimidad, Illusion, Sunset, Encantadora - Remix, Yo Te Lo Dije, El Perdón, Welcome To Jamrock, Bastará, Panda, Te Vas (feat. Nan2 El Maestro De Las Melodias), No Quiere Enamorarse, Borro Cassette, Decídete, Don't Let Me Down, Apologize, The Hills, Low Life, Bobo, Kryptonite, Déjame vivir, Fantasy, Voy a 100, For Ever Alone, Ra Papapapan (feat. Reykon)]                                                                                                                                                                                                                                                                                                                                                                                                                                                                                                                                                                                                                                                                                                                                                                                                                               \n",
       "                                                                                                                                                                                                                                                                                                                                                                                                                                                                                   ...                                                                                                                                                                                                                                                                                                                                                                                                                                                                                                                                                                                                                                                                                                                                                                                                                                                                                                                                                                                                                                                                                                                                                                                                                                                                                                          \n",
       "166767    [Stakes Is High, Soundgirl Personal, A Little Piano, Animal Forest, Fresh Green, Kuma, We Will All B Free, Atria, Piano Cover, Long Life, La Bonne Attitude, How To Fish [feat. Reach], Sirrah, The Breakdown, darkness, It's Gonna Bee(Alright), No Time, Acid Raindrops, Braggin & Boasting(feat. Little Brother), Place To Be, Maintain, Truly Get Yours - Instrumental, Night Steps, Little People, Pete's Jazz, The Difference, Them That's Not, The Throwback(feat. Maspyke), Mars Part. III, Trippin' At The Disco, Journey To Anywhere, Streamline - Vocal, lattitude - Instrumental, Back On The Block, Drop, Left Behind, The Seed (2.0), Quality Control, Figaro, Above The Clouds, Pacifics (Sdtrk \"N.Y. Is Red Hot\"), The OtherSide, Passin' Me By, Breathe And Stop, If You Wanna Know, The Hop, Concrete Schoolyard, Rio De Janeiro, Deception, Electric Relaxation, The Truth]                                                                                                                                                                                                                                                                                                                                                                                                                                                                                                                                                                                                                                                                                                                                                                                                                                                                                        \n",
       "167280    [Strajerul Timpului, Nuremberg 1561, Tears of a Hopeless God, Through the End of Times, Horns of Vengeance, Starlight in the Shades, Emerald, What Have You Done - Hydra Live in Concert, Disillusion, Halcyon Days, Blade's Kiss, Virus of the Mind, The Congregation, United in Tragedy, All Seems Lost, I  Don Quixote, Like a Moth to the Flame, Lucid Dreamer, Son of the Sun, Beneath The Frozen Leaves, Kings of Greed, Towards Horizon, Soul Transition Interface, Rising from Tragic Flames, The Essence Of Silence, Sons of Winter and Stars, Jikininki, Gleipnir, Titan, The Sighting Is a Portent of Doom, I  Caligvla, Blessed He With Boils, Ascension Sickness, No One Survives, Progenies Of The Great Apocalypse, When the Lights Are Down, X, The Wolves Die Young, Higher, Unchain Utopia, Discord, The End of Innocence, Romulus, The Islander, And We Run (feat. Xzibit), I Have a Right, Sacred Worlds, Dies Irae - Live in Miskolc, Trip the Darkness, The Wicked Symphony, March of Mephisto (feat. Shagrath)]                                                                                                                                                                                                                                                                                                                                                                                                                                                                                                                                                                                                                                                                                                                                                \n",
       "168195    [Loop, Hollywood, 장가갈 수 있을까 Can I Get Married?, Sooni (I'm your fanatic girl), 물 Water, 11:11, Nosedive, Hot and Cold (feat. Yun Cheoljong of 10cm), Nobody Knows, Don't Hate Me, I Will Forget  Tomorrow., YOUR SONG (with Lee Jin Ah  Jung Seung Hwan  Kwon Jin Ah), Butterfly, 7월 7일 One Of These Nights, Wonder, Heartbeat, You&I, With Me]                                                                                                                                                                                                                                                                                                                                                                                                                                                                                                                                                                                                                                                                                                                                                                                                                                                                                                                                                                                                                                                                                                                                                                                                                                                                                                                                                                                                                                       \n",
       "168267    [Happy Days, Scooby Doo, Mission Impossible, Hawaii Five O, Where Everybody Knows Your Name (Cheers Theme), Gilligan's Island Theme, M.A.S.H. Theme, MAGNUM P.I., Star Trek - Original Tv Version, The Waltons, Ghostbusters, Bewitched, Hill Street Blues, The Rockford Files, Peter Gunn, Hogan's Heros, Welcome Back  Kotter, I'll Be There for You (From \"Friends\"), Night Court, The Jeffersons Theme, Charlie Brown - Linus and Lucy, Theme (From \"The Andy Griffith Show\"), The Dick Van Dyke Show, Can You Tell Me How To Get To Sesame Street, Always Look On The Brightside Of Life (Monty Python), The Odd Couple (Instrumental), Left Bank Two (Vision On Gallery Theme), Green Acres Theme, Bonanza, Prologue (From \"Battlestar Galactica\"), Taxi - Angela, Family Ties, Alerte À Malibu, Petticoat Junction Theme, The Greatest Americn Hero, Theme from the Jetsons, Batman - TV Theme, Perry Mason, Battlestar Galactica (New Series), Theme from the Flintstones, Theme (From \"Star Trek: Voyager\"), Northern Exposure, L.A. LAW, Mahna Mahna (From \"The Muppet Show\"), Police Squad, Newhart, Yakety Sax (From \"The Benny Hill Show\"), Pink Panther, Theme From I Dream of Jeannie, Good Times Theme, Theme (From \"Csi: New York\")]                                                                                                                                                                                                                                                                                                                                                                                                                                                                                                                                 \n",
       "169827    [i, Dark Sky (Skyscrapers), Blessings, All Your Fault, I Don't Fuck With You, Play No Games, Paradise - Extended, Win Some  Lose Some, Stay Down, I Know, Deep, One Man Can Change The World, Outro, All Day, Only One, The Blacker The Berry, Planez, Trap Queen, Flava, Gym, Wesley's Theory, For Free? - Interlude, King Kunta, Institutionalized, These Walls, u, Alright, For Sale? - Interlude, Momma, Hood Politics, How Much A Dollar Cost, Complexion (A Zulu Love), The Blacker The Berry, You Ain't Gotta Lie (Momma Said), i, Mortal Man, The Intro About Nothing, The Helium Balloon, The White Shoes, The Pessimist (feat. J. Cole), The Middle Finger, The One Time In Houston, The Girls On Drugs, The God Smile, The Need To Know (feat. SZA), The Success, The Glass Egg, The Bloom (AG3), The Matrimony (feat. Usher), The Body (feat. Jeremih), Ride Out]                                                                                                                                                                                                                                                                                                                                                                                                                                                                                                                                                                                                                                                                                                                                                                                                                                                                                                         \n",
       "Length: 500, dtype: object"
      ]
     },
     "execution_count": 48,
     "metadata": {},
     "output_type": "execute_result"
    }
   ],
   "source": [
    "pd.set_option('display.max_colwidth', 0)\n",
    "df2 = dataset.drop(['name', 'duration_ms', 'album_name', 'artist_name'], axis=1)\n",
    "df2 = df2.groupby(\"pid\").apply(lambda x: list(x.values))\n",
    "# df2 = df2[0:5]\n",
    "# df2 = df2.apply(lambda x: print(x[0][0]))\n",
    "# df2[241][0]\n",
    "df2 = df2.map(lambda x: [y[1] for y in x])\n",
    "df2"
   ]
  },
  {
   "cell_type": "code",
   "execution_count": 49,
   "metadata": {},
   "outputs": [
    {
     "data": {
      "text/html": [
       "<div>\n",
       "<style scoped>\n",
       "    .dataframe tbody tr th:only-of-type {\n",
       "        vertical-align: middle;\n",
       "    }\n",
       "\n",
       "    .dataframe tbody tr th {\n",
       "        vertical-align: top;\n",
       "    }\n",
       "\n",
       "    .dataframe thead th {\n",
       "        text-align: right;\n",
       "    }\n",
       "</style>\n",
       "<table border=\"1\" class=\"dataframe\">\n",
       "  <thead>\n",
       "    <tr style=\"text-align: right;\">\n",
       "      <th></th>\n",
       "      <th>support</th>\n",
       "      <th>itemsets</th>\n",
       "    </tr>\n",
       "  </thead>\n",
       "  <tbody>\n",
       "  </tbody>\n",
       "</table>\n",
       "</div>"
      ],
      "text/plain": [
       "Empty DataFrame\n",
       "Columns: [support, itemsets]\n",
       "Index: []"
      ]
     },
     "execution_count": 49,
     "metadata": {},
     "output_type": "execute_result"
    }
   ],
   "source": [
    "from mlxtend.preprocessing import TransactionEncoder\n",
    "from mlxtend.frequent_patterns import apriori\n",
    "\n",
    "te = TransactionEncoder()\n",
    "te_ary = te.fit(df2).transform(df2)\n",
    "df = pd.DataFrame(te_ary, columns=te.columns_)\n",
    "\n",
    "apriori(df, min_support=0.6, use_colnames=True)"
   ]
  },
  {
   "cell_type": "code",
   "execution_count": 50,
   "metadata": {},
   "outputs": [
    {
     "name": "stdout",
     "output_type": "stream",
     "text": [
      "No frequent item set\n"
     ]
    },
    {
     "ename": "TypeError",
     "evalue": "cannot unpack non-iterable NoneType object",
     "output_type": "error",
     "traceback": [
      "\u001b[0;31m---------------------------------------------------------------------------\u001b[0m",
      "\u001b[0;31mTypeError\u001b[0m                                 Traceback (most recent call last)",
      "\u001b[1;32m/home/daniel/Documents/UFMG/CloudComputing/tp2-cloud-computing/musics.ipynb Cell 5\u001b[0m line \u001b[0;36m2\n\u001b[1;32m      <a href='vscode-notebook-cell:/home/daniel/Documents/UFMG/CloudComputing/tp2-cloud-computing/musics.ipynb#W3sZmlsZQ%3D%3D?line=0'>1</a>\u001b[0m \u001b[39mfrom\u001b[39;00m \u001b[39mfpgrowth_py\u001b[39;00m \u001b[39mimport\u001b[39;00m fpgrowth\n\u001b[0;32m----> <a href='vscode-notebook-cell:/home/daniel/Documents/UFMG/CloudComputing/tp2-cloud-computing/musics.ipynb#W3sZmlsZQ%3D%3D?line=1'>2</a>\u001b[0m freqItemSet, rules \u001b[39m=\u001b[39m fpgrowth(df2\u001b[39m.\u001b[39mto_list(), minSupRatio\u001b[39m=\u001b[39m\u001b[39m0.1\u001b[39m, minConf\u001b[39m=\u001b[39m\u001b[39m0.1\u001b[39m)\n\u001b[1;32m      <a href='vscode-notebook-cell:/home/daniel/Documents/UFMG/CloudComputing/tp2-cloud-computing/musics.ipynb#W3sZmlsZQ%3D%3D?line=2'>3</a>\u001b[0m rules\n",
      "\u001b[0;31mTypeError\u001b[0m: cannot unpack non-iterable NoneType object"
     ]
    }
   ],
   "source": [
    "from fpgrowth_py import fpgrowth\n",
    "freqItemSet, rules = fpgrowth(df2.to_list(), minSupRatio=0.1, minConf=0.1)\n",
    "rules"
   ]
  }
 ],
 "metadata": {
  "kernelspec": {
   "display_name": "Python 3",
   "language": "python",
   "name": "python3"
  },
  "language_info": {
   "codemirror_mode": {
    "name": "ipython",
    "version": 3
   },
   "file_extension": ".py",
   "mimetype": "text/x-python",
   "name": "python",
   "nbconvert_exporter": "python",
   "pygments_lexer": "ipython3",
   "version": "3.10.12"
  }
 },
 "nbformat": 4,
 "nbformat_minor": 2
}
